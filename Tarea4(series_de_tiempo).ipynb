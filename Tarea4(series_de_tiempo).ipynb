{
  "nbformat": 4,
  "nbformat_minor": 0,
  "metadata": {
    "colab": {
      "provenance": [],
      "authorship_tag": "ABX9TyMNzU727D6eUvp2rRNo03bk",
      "include_colab_link": true
    },
    "kernelspec": {
      "name": "python3",
      "display_name": "Python 3"
    },
    "language_info": {
      "name": "python"
    }
  },
  "cells": [
    {
      "cell_type": "markdown",
      "metadata": {
        "id": "view-in-github",
        "colab_type": "text"
      },
      "source": [
        "<a href=\"https://colab.research.google.com/github/BryanVerduga/Proyecto1_Verduga/blob/main/Tarea4(series_de_tiempo).ipynb\" target=\"_parent\"><img src=\"https://colab.research.google.com/assets/colab-badge.svg\" alt=\"Open In Colab\"/></a>"
      ]
    },
    {
      "cell_type": "markdown",
      "source": [
        "##Bryan Verduga"
      ],
      "metadata": {
        "id": "c7DXW4f3iDW1"
      }
    },
    {
      "cell_type": "markdown",
      "source": [
        "Crea una jupyter notebook con una data sintetica u otra a elección que simule una serie de tiempo. Usa cada función expuesta anteriormente y comenta los resultados"
      ],
      "metadata": {
        "id": "U0x6Q-k2h_4z"
      }
    },
    {
      "cell_type": "code",
      "source": [
        "!pip install fbprophet\n"
      ],
      "metadata": {
        "id": "QoRfoaXjxVCv"
      },
      "execution_count": null,
      "outputs": []
    },
    {
      "cell_type": "code",
      "source": [
        "import pandas as pd\n",
        "import matplotlib.pyplot as plt\n",
        "from fbprophet import Prophet\n",
        "\n",
        "#creamos fechas para 365 días\n",
        "dates = pd.date_range(start='2023-01-01', periods=365, freq='D')\n",
        "\n",
        "#creamos datos sinteticos usando una función sinusoidal con ruido aleatorio\n",
        "import numpy as np\n",
        "np.random.seed(0)\n",
        "values = 100 + 50 * np.sin(np.arange(365) * (2 * np.pi) / 365) + np.random.normal(0, 10, 365)\n",
        "\n",
        "#creamos DataFrame con las fechas y los valores sintéticos\n",
        "data = pd.DataFrame({'ds': dates, 'y': values})\n",
        "\n",
        "#creamos y ajustamos el modelo Prophet\n",
        "model = Prophet()\n",
        "model.fit(data)\n",
        "\n",
        "#generamos fechas futuras para las predicciones\n",
        "future_dates = model.make_future_dataframe(periods=365)\n",
        "\n",
        "#realizamos las predicciones\n",
        "predictions = model.predict(future_dates)\n",
        "\n",
        "#visualizamos los resultados\n",
        "\n",
        "#graficos de las predicciones\n",
        "fig1 = model.plot(predictions)\n",
        "plt.title(\"Predicciones de la serie de tiempo\")\n",
        "plt.xlabel(\"Fecha\")\n",
        "plt.ylabel(\"Valor\")\n",
        "plt.show()\n",
        "\n",
        "#grafico de los componentes del modelo\n",
        "fig2 = model.plot_components(predictions)\n",
        "plt.show()\n",
        "\n",
        "#función add_seasonality para agregar estacionalidad personalizada (por ejemplo, estacionalidad semanal)\n",
        "model.add_seasonality(name='weekly', period=7, fourier_order=3)\n",
        "\n",
        "#función add_country_holidays para agregar las vacaciones de un país\n",
        "model.add_country_holidays(country_name='US')\n",
        "\n",
        "#volver a ajustar el modelo con las estacionalidades y las vacaciones personalizadas\n",
        "model.fit(data)\n",
        "\n",
        "#realizamos nuevas predicciones con las estacionalidades y las vacaciones personalizadas\n",
        "predictions_custom = model.predict(future_dates)\n",
        "\n",
        "#grafico de las nuevas predicciones con estacionalidades y vacaciones personalizadas\n",
        "fig3 = model.plot(predictions_custom)\n",
        "plt.title(\"Predicciones con estacionalidades y vacaciones personalizadas\")\n",
        "plt.xlabel(\"Fecha\")\n",
        "plt.ylabel(\"Valor\")\n",
        "plt.show()\n",
        "\n",
        "#grafico de los nuevos componentes del modelo con estacionalidades y vacaciones personalizadas\n",
        "fig4 = model.plot_components(predictions_custom)\n",
        "plt.show()"
      ],
      "metadata": {
        "id": "KqHmWPApx6UI"
      },
      "execution_count": null,
      "outputs": []
    }
  ]
}
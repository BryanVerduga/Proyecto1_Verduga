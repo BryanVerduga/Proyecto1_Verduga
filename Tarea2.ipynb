https://raw.githubusercontent.com/BryanVerduga/recibirinfo/main/CuadernoGeneral.ipynb

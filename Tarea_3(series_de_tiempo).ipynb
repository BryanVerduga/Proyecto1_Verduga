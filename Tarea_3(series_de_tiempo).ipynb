{
  "nbformat": 4,
  "nbformat_minor": 0,
  "metadata": {
    "colab": {
      "provenance": [],
      "authorship_tag": "ABX9TyO8uEwhCU8RB8ZOiz7aGQjc",
      "include_colab_link": true
    },
    "kernelspec": {
      "name": "python3",
      "display_name": "Python 3"
    },
    "language_info": {
      "name": "python"
    }
  },
  "cells": [
    {
      "cell_type": "markdown",
      "metadata": {
        "id": "view-in-github",
        "colab_type": "text"
      },
      "source": [
        "<a href=\"https://colab.research.google.com/github/BryanVerduga/Proyecto1_Verduga/blob/main/Tarea_3(series_de_tiempo).ipynb\" target=\"_parent\"><img src=\"https://colab.research.google.com/assets/colab-badge.svg\" alt=\"Open In Colab\"/></a>"
      ]
    },
    {
      "cell_type": "markdown",
      "source": [
        "##Bryan Verduga"
      ],
      "metadata": {
        "id": "5h61S3l3dCjy"
      }
    },
    {
      "cell_type": "markdown",
      "source": [
        "**Ejercicios\n",
        "Ahora que hemos aprendido cómo generar series de tiempo estacionarias y no estacionarias, y cómo comprobar su estacionariedad utilizando el test de Dickey-Fuller, es tu turno de practicar.**\n",
        "\n",
        "Ejercicio 1:\n",
        "\n",
        "Genera una serie de tiempo que sea una caminata aleatoria (es decir, cada valor es la suma del valor anterior y un ruido aleatorio), y comprueba si es estacionaria utilizando el test de Dickey-Fuller. Visualiza la serie de tiempo.\n"
      ],
      "metadata": {
        "id": "-kp-1OJPdP5H"
      }
    },
    {
      "cell_type": "code",
      "source": [
        "import numpy as np\n",
        "import pandas as pd\n",
        "import matplotlib.pyplot as plt\n",
        "from statsmodels.tsa.stattools import adfuller\n",
        "\n",
        "#generar una caminata aleatoria\n",
        "np.random.seed(42)  #gijamos la semilla\n",
        "n = 100  #numero de puntos en la serie de tiempo\n",
        "random_noise = np.random.normal(0, 1, n)  #ruido aleatorio\n",
        "random_walk = np.cumsum(random_noise)  #caminata aleatoria\n",
        "\n",
        "#visualizar la serie de tiempo\n",
        "plt.figure(figsize=(10, 6))\n",
        "plt.plot(random_walk)\n",
        "plt.xlabel('Tiempo')\n",
        "plt.ylabel('Valor')\n",
        "plt.title('Caminata Aleatoria')\n",
        "plt.show()\n",
        "\n",
        "#realizar el test de Dickey-Fuller para verificar la estacionariedad\n",
        "result = adfuller(random_walk)\n",
        "print(\"Estadística de prueba:\", result[0])\n",
        "print(\"Valor p:\", result[1])\n",
        "print(\"Valores críticos:\", result[4])\n",
        "print(\"Resultados del test:\")\n",
        "print(\"La serie de tiempo es estacionaria.\") if result[1] <= 0.05 else print(\"La serie de tiempo no es estacionaria.\")\n"
      ],
      "metadata": {
        "id": "P0Cd_X6-dHm4"
      },
      "execution_count": null,
      "outputs": []
    },
    {
      "cell_type": "markdown",
      "source": [
        "\n",
        "Ejercicio 2:\n",
        "\n",
        "Genera una serie de tiempo que sea la suma de una tendencia y un ruido aleatorio, y comprueba si es estacionaria utilizando el test de Dickey-Fuller. Visualiza la serie de tiempo."
      ],
      "metadata": {
        "id": "IqjRd_4DqebD"
      }
    },
    {
      "cell_type": "code",
      "source": [
        "import numpy as np\n",
        "import pandas as pd\n",
        "import matplotlib.pyplot as plt\n",
        "from statsmodels.tsa.stattools import adfuller\n",
        "\n",
        "#generar una serie de tiempo con tendencia y ruido aleatorio\n",
        "np.random.seed(42)  #fijamos semilla\n",
        "n = 100  #numero de puntos en la serie de tiempo\n",
        "t = np.arange(1, n + 1)  #vector de tiempo\n",
        "tendencia = 0.5 * t  #tendencia lineal\n",
        "random_noise = np.random.normal(0, 1, n)  #ruido aleatorio\n",
        "serie_tiempo = tendencia + random_noise  #serie de tiempo\n",
        "\n",
        "#visualizar la serie de tiempo\n",
        "plt.figure(figsize=(10, 6))\n",
        "plt.plot(t, serie_tiempo)\n",
        "plt.xlabel('Tiempo')\n",
        "plt.ylabel('Valor')\n",
        "plt.title('Serie de Tiempo con Tendencia y Ruido Aleatorio')\n",
        "plt.show()\n",
        "\n",
        "#realizar el test de Dickey-Fuller para verificar la estacionariedad\n",
        "result = adfuller(serie_tiempo)\n",
        "print(\"Estadística de prueba:\", result[0])\n",
        "print(\"Valor p:\", result[1])\n",
        "print(\"Valores críticos:\", result[4])\n",
        "print(\"Resultados del test:\")\n",
        "print(\"La serie de tiempo es estacionaria.\") if result[1] <= 0.05 else print(\"La serie de tiempo no es estacionaria.\")\n"
      ],
      "metadata": {
        "id": "zW3e_qs-qdjs"
      },
      "execution_count": null,
      "outputs": []
    },
    {
      "cell_type": "markdown",
      "source": [
        "**Ejercicios con Prophet\n",
        "Ahora que hemos aprendido cómo usar Prophet para descomponer una serie de tiempo en su tendencia y componentes estacionales, es tu turno de practicar.**\n",
        "\n",
        "Ejercicio 1:\n",
        "\n",
        "Genera una serie de tiempo que tenga una tendencia lineal y una estacionalidad semanal, y utiliza Prophet para descomponerla en su tendencia y componentes estacionales. Visualiza la descomposición.\n"
      ],
      "metadata": {
        "id": "vFFs5pSMc8Im"
      }
    },
    {
      "cell_type": "code",
      "source": [
        "pip install prophet"
      ],
      "metadata": {
        "id": "CMLxGqj7uIz_"
      },
      "execution_count": null,
      "outputs": []
    },
    {
      "cell_type": "code",
      "source": [
        "import numpy as np\n",
        "import pandas as pd\n",
        "import matplotlib.pyplot as plt\n",
        "from fbprophet import Prophet\n",
        "\n",
        "#generar una serie de tiempo con tendencia lineal y estacionalidad semanal\n",
        "np.random.seed(42)  #fijamos semilla\n",
        "n = 365  #numero de puntos en la serie de tiempo\n",
        "t = pd.date_range(start='2022-01-01', periods=n, freq='D')  #fechas para la serie de tiempo\n",
        "tendencia_lineal = 0.1 * np.arange(1, n + 1)  #tendencia lineal\n",
        "estacionalidad_semanal = 5 * np.sin(2 * np.pi * np.arange(1, n + 1) / 7)  #estacionalidad semanal\n",
        "serie_tiempo = tendencia_lineal + estacionalidad_semanal  #serie de tiempo\n",
        "\n",
        "#crear un DataFrame con la serie de tiempo\n",
        "data = pd.DataFrame({'ds': t, 'y': serie_tiempo})\n",
        "\n",
        "#utilizar Prophet para descomponer la serie de tiempo\n",
        "model = Prophet()\n",
        "model.fit(data)\n",
        "\n",
        "#predecir los componentes de la serie de tiempo\n",
        "components = model.predict(data)\n",
        "\n",
        "#visualizar la descomposición\n",
        "fig, ax = plt.subplots(figsize=(10, 6))\n",
        "ax.plot(data['ds'], data['y'], label='Serie de Tiempo Original')\n",
        "ax.plot(data['ds'], components['trend'], label='Tendencia')\n",
        "ax.plot(data['ds'], components['weekly'], label='Estacionalidad Semanal')\n",
        "ax.set_xlabel('Fecha')\n",
        "ax.set_ylabel('Valor')\n",
        "ax.set_title('Descomposición de la Serie de Tiempo')\n",
        "ax.legend()\n",
        "plt.show()"
      ],
      "metadata": {
        "id": "MBaW0VKfu7yD"
      },
      "execution_count": null,
      "outputs": []
    },
    {
      "cell_type": "markdown",
      "source": [
        "\n",
        "Ejercicio 2:\n",
        "\n",
        "Genera una serie de tiempo que tenga una tendencia no lineal y una estacionalidad diaria, y utiliza Prophet para descomponerla en su tendencia y componentes estacionales. Visualiza la descomposición."
      ],
      "metadata": {
        "id": "MBgcb8tCqqf_"
      }
    },
    {
      "cell_type": "code",
      "source": [
        "import numpy as np\n",
        "import pandas as pd\n",
        "import matplotlib.pyplot as plt\n",
        "from fbprophet import Prophet\n",
        "\n",
        "#generar una serie de tiempo con tendencia no lineal y estacionalidad diaria\n",
        "np.random.seed(42)  #fijamos la semilla para reproducibilidad\n",
        "n = 365  #numero de puntos en la serie de tiempo\n",
        "t = pd.date_range(start='2022-01-01', periods=n, freq='D')  #fechas para la serie de tiempo\n",
        "tendencia_no_lineal = 0.1 * np.arange(1, n + 1) ** 2  #tendencia no lineal (cuadrática)\n",
        "estacionalidad_diaria = 10 * np.sin(2 * np.pi * np.arange(1, n + 1) / 365)  #estacionalidad diaria\n",
        "serie_tiempo = tendencia_no_lineal + estacionalidad_diaria  #serie de tiempo\n",
        "\n",
        "#creamos un DataFrame con la serie de tiempo\n",
        "data = pd.DataFrame({'ds': t, 'y': serie_tiempo})\n",
        "\n",
        "#utilizar Prophet para descomponer la serie de tiempo\n",
        "model = Prophet()\n",
        "model.fit(data)\n",
        "\n",
        "#predecir los componentes de la serie de tiempo\n",
        "components = model.predict(data)\n",
        "\n",
        "#visualizar la descomposición\n",
        "fig, ax = plt.subplots(figsize=(10, 6))\n",
        "ax.plot(data['ds'], data['y'], label='Serie de Tiempo Original')\n",
        "ax.plot(data['ds'], components['trend'], label='Tendencia')\n",
        "ax.plot(data['ds'], components['daily'], label='Estacionalidad Diaria')\n",
        "ax.set_xlabel('Fecha')\n",
        "ax.set_ylabel('Valor')\n",
        "ax.set_title('Descomposición de la Serie de Tiempo')\n",
        "ax.legend()\n",
        "plt.show()\n"
      ],
      "metadata": {
        "id": "no0efoHqqq40"
      },
      "execution_count": null,
      "outputs": []
    }
  ]
}